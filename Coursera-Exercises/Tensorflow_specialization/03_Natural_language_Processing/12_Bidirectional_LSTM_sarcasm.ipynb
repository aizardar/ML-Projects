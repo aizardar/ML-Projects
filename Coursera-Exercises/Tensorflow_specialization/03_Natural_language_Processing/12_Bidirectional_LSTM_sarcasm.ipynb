{
  "nbformat": 4,
  "nbformat_minor": 0,
  "metadata": {
    "accelerator": "GPU",
    "colab": {
      "name": "Course 3 - Week 3 - Lesson 2.ipynb",
      "provenance": [],
      "collapsed_sections": [],
      "toc_visible": true
    },
    "kernelspec": {
      "display_name": "Python 3",
      "language": "python",
      "name": "python3"
    },
    "language_info": {
      "codemirror_mode": {
        "name": "ipython",
        "version": 3
      },
      "file_extension": ".py",
      "mimetype": "text/x-python",
      "name": "python",
      "nbconvert_exporter": "python",
      "pygments_lexer": "ipython3",
      "version": "3.7.6"
    }
  },
  "cells": [
    {
      "cell_type": "code",
      "metadata": {
        "colab_type": "code",
        "id": "zX4Kg8DUTKWO",
        "colab": {}
      },
      "source": [
        "#@title Licensed under the Apache License, Version 2.0 (the \"License\");\n",
        "# you may not use this file except in compliance with the License.\n",
        "# You may obtain a copy of the License at\n",
        "#\n",
        "# https://www.apache.org/licenses/LICENSE-2.0\n",
        "#\n",
        "# Unless required by applicable law or agreed to in writing, software\n",
        "# distributed under the License is distributed on an \"AS IS\" BASIS,\n",
        "# WITHOUT WARRANTIES OR CONDITIONS OF ANY KIND, either express or implied.\n",
        "# See the License for the specific language governing permissions and\n",
        "# limitations under the License."
      ],
      "execution_count": null,
      "outputs": []
    },
    {
      "cell_type": "markdown",
      "metadata": {
        "id": "2duq2fx_ySuf",
        "colab_type": "text"
      },
      "source": [
        "<a href=\"https://colab.research.google.com/github/lmoroney/dlaicourse/blob/master/TensorFlow%20In%20Practice/Course%203%20-%20NLP/Course%203%20-%20Week%203%20-%20Lesson%202.ipynb\" target=\"_parent\"><img src=\"https://colab.research.google.com/assets/colab-badge.svg\" alt=\"Open In Colab\"/></a>"
      ]
    },
    {
      "cell_type": "code",
      "metadata": {
        "colab_type": "code",
        "id": "jGwXGIXvFhXW",
        "colab": {
          "base_uri": "https://localhost:8080/",
          "height": 1000
        },
        "outputId": "38daf61b-8f55-4644-e4ac-19ae499d94a7"
      },
      "source": [
        "import numpy as np\n",
        "\n",
        "import json\n",
        "import tensorflow as tf\n",
        "\n",
        "from tensorflow.keras.preprocessing.text import Tokenizer\n",
        "from tensorflow.keras.preprocessing.sequence import pad_sequences\n",
        "\n",
        "!wget --no-check-certificate \\\n",
        "    https://storage.googleapis.com/laurencemoroney-blog.appspot.com/sarcasm.json \\\n",
        "    -O /tmp/sarcasm.json\n",
        "\n",
        "vocab_size = 1000\n",
        "embedding_dim = 16\n",
        "max_length = 120\n",
        "trunc_type='post'\n",
        "padding_type='post'\n",
        "oov_tok = \"<OOV>\"\n",
        "training_size = 20000\n",
        "\n",
        "\n",
        "with open(\"/tmp/sarcasm.json\", 'r') as f:\n",
        "    datastore = json.load(f)\n",
        "\n",
        "\n",
        "sentences = []\n",
        "labels = []\n",
        "urls = []\n",
        "for item in datastore:\n",
        "    sentences.append(item['headline'])\n",
        "    labels.append(item['is_sarcastic'])\n",
        "\n",
        "training_sentences = sentences[0:training_size]\n",
        "testing_sentences = sentences[training_size:]\n",
        "training_labels = labels[0:training_size]\n",
        "testing_labels = labels[training_size:]\n",
        "\n",
        "tokenizer = Tokenizer(num_words=vocab_size, oov_token=oov_tok)\n",
        "tokenizer.fit_on_texts(training_sentences)\n",
        "\n",
        "word_index = tokenizer.word_index\n",
        "\n",
        "training_sequences = tokenizer.texts_to_sequences(training_sentences)\n",
        "training_padded = pad_sequences(training_sequences, maxlen=max_length, padding=padding_type, truncating=trunc_type)\n",
        "\n",
        "testing_sequences = tokenizer.texts_to_sequences(testing_sentences)\n",
        "testing_padded = pad_sequences(testing_sequences, maxlen=max_length, padding=padding_type, truncating=trunc_type)\n",
        "\n",
        "model = tf.keras.Sequential([\n",
        "    tf.keras.layers.Embedding(vocab_size, embedding_dim, input_length=max_length),\n",
        "    tf.keras.layers.Bidirectional(tf.keras.layers.LSTM(32)),\n",
        "    tf.keras.layers.Dense(24, activation='relu'),\n",
        "    tf.keras.layers.Dense(1, activation='sigmoid')\n",
        "])\n",
        "model.compile(loss='binary_crossentropy',optimizer='adam',metrics=['accuracy'])\n",
        "model.summary()\n",
        "\n",
        "num_epochs = 50\n",
        "training_padded = np.array(training_padded)\n",
        "training_labels = np.array(training_labels)\n",
        "testing_padded = np.array(testing_padded)\n",
        "testing_labels = np.array(testing_labels)\n",
        "history = model.fit(training_padded, training_labels, epochs=num_epochs, validation_data=(testing_padded, testing_labels), verbose=1)\n"
      ],
      "execution_count": 1,
      "outputs": [
        {
          "output_type": "stream",
          "text": [
            "--2020-07-07 14:59:29--  https://storage.googleapis.com/laurencemoroney-blog.appspot.com/sarcasm.json\n",
            "Resolving storage.googleapis.com (storage.googleapis.com)... 74.125.203.128, 74.125.204.128, 64.233.187.128, ...\n",
            "Connecting to storage.googleapis.com (storage.googleapis.com)|74.125.203.128|:443... connected.\n",
            "HTTP request sent, awaiting response... 200 OK\n",
            "Length: 5643545 (5.4M) [application/json]\n",
            "Saving to: ‘/tmp/sarcasm.json’\n",
            "\n",
            "\r/tmp/sarcasm.json     0%[                    ]       0  --.-KB/s               \r/tmp/sarcasm.json   100%[===================>]   5.38M  --.-KB/s    in 0.06s   \n",
            "\n",
            "2020-07-07 14:59:29 (93.6 MB/s) - ‘/tmp/sarcasm.json’ saved [5643545/5643545]\n",
            "\n",
            "Model: \"sequential\"\n",
            "_________________________________________________________________\n",
            "Layer (type)                 Output Shape              Param #   \n",
            "=================================================================\n",
            "embedding (Embedding)        (None, 120, 16)           16000     \n",
            "_________________________________________________________________\n",
            "bidirectional (Bidirectional (None, 64)                12544     \n",
            "_________________________________________________________________\n",
            "dense (Dense)                (None, 24)                1560      \n",
            "_________________________________________________________________\n",
            "dense_1 (Dense)              (None, 1)                 25        \n",
            "=================================================================\n",
            "Total params: 30,129\n",
            "Trainable params: 30,129\n",
            "Non-trainable params: 0\n",
            "_________________________________________________________________\n",
            "Epoch 1/50\n",
            "625/625 [==============================] - 38s 60ms/step - loss: 0.4495 - accuracy: 0.7737 - val_loss: 0.3834 - val_accuracy: 0.8243\n",
            "Epoch 2/50\n",
            "625/625 [==============================] - 37s 59ms/step - loss: 0.3496 - accuracy: 0.8396 - val_loss: 0.3739 - val_accuracy: 0.8269\n",
            "Epoch 3/50\n",
            "625/625 [==============================] - 37s 59ms/step - loss: 0.3278 - accuracy: 0.8533 - val_loss: 0.3698 - val_accuracy: 0.8332\n",
            "Epoch 4/50\n",
            "625/625 [==============================] - 37s 59ms/step - loss: 0.3122 - accuracy: 0.8587 - val_loss: 0.3812 - val_accuracy: 0.8244\n",
            "Epoch 5/50\n",
            "625/625 [==============================] - 37s 59ms/step - loss: 0.3012 - accuracy: 0.8671 - val_loss: 0.3770 - val_accuracy: 0.8347\n",
            "Epoch 6/50\n",
            "625/625 [==============================] - 37s 59ms/step - loss: 0.2902 - accuracy: 0.8717 - val_loss: 0.3813 - val_accuracy: 0.8308\n",
            "Epoch 7/50\n",
            "625/625 [==============================] - 37s 59ms/step - loss: 0.2829 - accuracy: 0.8777 - val_loss: 0.3899 - val_accuracy: 0.8301\n",
            "Epoch 8/50\n",
            "625/625 [==============================] - 37s 59ms/step - loss: 0.2734 - accuracy: 0.8816 - val_loss: 0.3912 - val_accuracy: 0.8302\n",
            "Epoch 9/50\n",
            "625/625 [==============================] - 37s 59ms/step - loss: 0.2685 - accuracy: 0.8824 - val_loss: 0.3903 - val_accuracy: 0.8283\n",
            "Epoch 10/50\n",
            "625/625 [==============================] - 37s 59ms/step - loss: 0.2605 - accuracy: 0.8889 - val_loss: 0.4057 - val_accuracy: 0.8247\n",
            "Epoch 11/50\n",
            "625/625 [==============================] - 37s 59ms/step - loss: 0.2524 - accuracy: 0.8911 - val_loss: 0.4030 - val_accuracy: 0.8261\n",
            "Epoch 12/50\n",
            "625/625 [==============================] - 37s 59ms/step - loss: 0.2458 - accuracy: 0.8946 - val_loss: 0.4333 - val_accuracy: 0.8247\n",
            "Epoch 13/50\n",
            "625/625 [==============================] - 37s 59ms/step - loss: 0.2369 - accuracy: 0.8992 - val_loss: 0.4150 - val_accuracy: 0.8261\n",
            "Epoch 14/50\n",
            "625/625 [==============================] - 37s 59ms/step - loss: 0.2282 - accuracy: 0.9033 - val_loss: 0.4735 - val_accuracy: 0.8235\n",
            "Epoch 15/50\n",
            "625/625 [==============================] - 37s 59ms/step - loss: 0.2210 - accuracy: 0.9057 - val_loss: 0.4583 - val_accuracy: 0.8253\n",
            "Epoch 16/50\n",
            "625/625 [==============================] - 37s 59ms/step - loss: 0.2129 - accuracy: 0.9107 - val_loss: 0.4701 - val_accuracy: 0.8225\n",
            "Epoch 17/50\n",
            "625/625 [==============================] - 37s 60ms/step - loss: 0.2057 - accuracy: 0.9126 - val_loss: 0.4703 - val_accuracy: 0.8185\n",
            "Epoch 18/50\n",
            "625/625 [==============================] - 37s 59ms/step - loss: 0.1968 - accuracy: 0.9162 - val_loss: 0.5386 - val_accuracy: 0.8213\n",
            "Epoch 19/50\n",
            "625/625 [==============================] - 37s 59ms/step - loss: 0.1902 - accuracy: 0.9194 - val_loss: 0.5598 - val_accuracy: 0.8199\n",
            "Epoch 20/50\n",
            "625/625 [==============================] - 37s 59ms/step - loss: 0.1820 - accuracy: 0.9240 - val_loss: 0.5878 - val_accuracy: 0.8185\n",
            "Epoch 21/50\n",
            "625/625 [==============================] - 37s 59ms/step - loss: 0.1744 - accuracy: 0.9268 - val_loss: 0.6008 - val_accuracy: 0.8107\n",
            "Epoch 22/50\n",
            "625/625 [==============================] - 37s 59ms/step - loss: 0.1677 - accuracy: 0.9301 - val_loss: 0.6757 - val_accuracy: 0.8155\n",
            "Epoch 23/50\n",
            "625/625 [==============================] - 37s 59ms/step - loss: 0.1626 - accuracy: 0.9329 - val_loss: 0.6622 - val_accuracy: 0.8195\n",
            "Epoch 24/50\n",
            "625/625 [==============================] - 37s 58ms/step - loss: 0.1542 - accuracy: 0.9358 - val_loss: 0.6851 - val_accuracy: 0.8131\n",
            "Epoch 25/50\n",
            "625/625 [==============================] - 37s 59ms/step - loss: 0.1446 - accuracy: 0.9384 - val_loss: 0.7999 - val_accuracy: 0.8067\n",
            "Epoch 26/50\n",
            "625/625 [==============================] - 37s 59ms/step - loss: 0.1422 - accuracy: 0.9396 - val_loss: 0.7404 - val_accuracy: 0.8137\n",
            "Epoch 27/50\n",
            "625/625 [==============================] - 37s 59ms/step - loss: 0.1341 - accuracy: 0.9448 - val_loss: 0.8302 - val_accuracy: 0.8079\n",
            "Epoch 28/50\n",
            "625/625 [==============================] - 37s 59ms/step - loss: 0.1261 - accuracy: 0.9480 - val_loss: 0.8734 - val_accuracy: 0.8100\n",
            "Epoch 29/50\n",
            "625/625 [==============================] - 37s 59ms/step - loss: 0.1208 - accuracy: 0.9499 - val_loss: 0.8891 - val_accuracy: 0.8053\n",
            "Epoch 30/50\n",
            "625/625 [==============================] - 37s 59ms/step - loss: 0.1179 - accuracy: 0.9511 - val_loss: 0.9227 - val_accuracy: 0.8047\n",
            "Epoch 31/50\n",
            "625/625 [==============================] - 37s 59ms/step - loss: 0.1110 - accuracy: 0.9534 - val_loss: 0.8982 - val_accuracy: 0.8058\n",
            "Epoch 32/50\n",
            "625/625 [==============================] - 37s 59ms/step - loss: 0.1055 - accuracy: 0.9573 - val_loss: 1.0491 - val_accuracy: 0.8071\n",
            "Epoch 33/50\n",
            "625/625 [==============================] - 37s 59ms/step - loss: 0.1007 - accuracy: 0.9572 - val_loss: 1.1282 - val_accuracy: 0.7980\n",
            "Epoch 34/50\n",
            "625/625 [==============================] - 37s 59ms/step - loss: 0.0971 - accuracy: 0.9595 - val_loss: 1.1295 - val_accuracy: 0.7971\n",
            "Epoch 35/50\n",
            "625/625 [==============================] - 37s 59ms/step - loss: 0.1034 - accuracy: 0.9555 - val_loss: 1.1423 - val_accuracy: 0.8058\n",
            "Epoch 36/50\n",
            "625/625 [==============================] - 37s 59ms/step - loss: 0.0859 - accuracy: 0.9638 - val_loss: 1.2410 - val_accuracy: 0.7970\n",
            "Epoch 37/50\n",
            "625/625 [==============================] - 36s 58ms/step - loss: 0.0811 - accuracy: 0.9643 - val_loss: 1.2342 - val_accuracy: 0.8046\n",
            "Epoch 38/50\n",
            "625/625 [==============================] - 37s 58ms/step - loss: 0.0810 - accuracy: 0.9660 - val_loss: 1.3285 - val_accuracy: 0.7989\n",
            "Epoch 39/50\n",
            "625/625 [==============================] - 37s 59ms/step - loss: 0.0757 - accuracy: 0.9678 - val_loss: 1.3523 - val_accuracy: 0.7900\n",
            "Epoch 40/50\n",
            "625/625 [==============================] - 36s 58ms/step - loss: 0.0810 - accuracy: 0.9669 - val_loss: 1.3597 - val_accuracy: 0.7953\n",
            "Epoch 41/50\n",
            "625/625 [==============================] - 37s 58ms/step - loss: 0.0734 - accuracy: 0.9697 - val_loss: 1.4134 - val_accuracy: 0.8009\n",
            "Epoch 42/50\n",
            "625/625 [==============================] - 36s 58ms/step - loss: 0.0677 - accuracy: 0.9719 - val_loss: 1.4373 - val_accuracy: 0.7982\n",
            "Epoch 43/50\n",
            "625/625 [==============================] - 37s 58ms/step - loss: 0.0637 - accuracy: 0.9725 - val_loss: 1.6318 - val_accuracy: 0.7997\n",
            "Epoch 44/50\n",
            "625/625 [==============================] - 37s 59ms/step - loss: 0.0660 - accuracy: 0.9718 - val_loss: 1.5529 - val_accuracy: 0.7992\n",
            "Epoch 45/50\n",
            "625/625 [==============================] - 37s 59ms/step - loss: 0.0684 - accuracy: 0.9717 - val_loss: 1.5354 - val_accuracy: 0.7988\n",
            "Epoch 46/50\n",
            "625/625 [==============================] - 37s 59ms/step - loss: 0.0608 - accuracy: 0.9753 - val_loss: 1.6429 - val_accuracy: 0.7959\n",
            "Epoch 47/50\n",
            "625/625 [==============================] - 37s 59ms/step - loss: 0.0557 - accuracy: 0.9772 - val_loss: 1.6724 - val_accuracy: 0.7948\n",
            "Epoch 48/50\n",
            "625/625 [==============================] - 37s 59ms/step - loss: 0.0637 - accuracy: 0.9744 - val_loss: 1.6162 - val_accuracy: 0.7988\n",
            "Epoch 49/50\n",
            "625/625 [==============================] - 37s 59ms/step - loss: 0.0577 - accuracy: 0.9749 - val_loss: 1.7192 - val_accuracy: 0.7968\n",
            "Epoch 50/50\n",
            "625/625 [==============================] - 37s 59ms/step - loss: 0.0528 - accuracy: 0.9774 - val_loss: 1.8086 - val_accuracy: 0.7912\n"
          ],
          "name": "stdout"
        }
      ]
    },
    {
      "cell_type": "code",
      "metadata": {
        "colab_type": "code",
        "id": "g9DC6dmLF8DC",
        "colab": {
          "base_uri": "https://localhost:8080/",
          "height": 541
        },
        "outputId": "2f6621eb-23c4-4ee9-fa02-8bbed969751f"
      },
      "source": [
        "import matplotlib.pyplot as plt\n",
        "\n",
        "\n",
        "def plot_graphs(history, string):\n",
        "  plt.plot(history.history[string])\n",
        "  plt.plot(history.history['val_'+string])\n",
        "  plt.xlabel(\"Epochs\")\n",
        "  plt.ylabel(string)\n",
        "  plt.legend([string, 'val_'+string])\n",
        "  plt.show()\n",
        "\n",
        "plot_graphs(history, 'accuracy')\n",
        "plot_graphs(history, 'loss')"
      ],
      "execution_count": 2,
      "outputs": [
        {
          "output_type": "display_data",
          "data": {
            "image/png": "[encoded data removed]",
            "text/plain": [
              "<Figure size 432x288 with 1 Axes>"
            ]
          },
          "metadata": {
            "tags": [],
            "needs_background": "light"
          }
        },
        {
          "output_type": "display_data",
          "data": {
            "image/png": "[encoded data removed]",
            "text/plain": [
              "<Figure size 432x288 with 1 Axes>"
            ]
          },
          "metadata": {
            "tags": [],
            "needs_background": "light"
          }
        }
      ]
    },
    {
      "cell_type": "code",
      "metadata": {
        "colab_type": "code",
        "id": "7ZEZIUppGhdi",
        "colab": {}
      },
      "source": [
        "model.save(\"test.h5\")"
      ],
      "execution_count": null,
      "outputs": []
    }
  ]
}