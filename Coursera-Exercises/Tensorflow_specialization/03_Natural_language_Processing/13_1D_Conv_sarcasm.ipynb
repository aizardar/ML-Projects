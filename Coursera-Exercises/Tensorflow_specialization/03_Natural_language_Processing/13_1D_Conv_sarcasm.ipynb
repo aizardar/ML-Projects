{
  "nbformat": 4,
  "nbformat_minor": 0,
  "metadata": {
    "accelerator": "GPU",
    "colab": {
      "name": "Course 3 - Week 3 - Lesson 2c.ipynb",
      "provenance": [],
      "collapsed_sections": [],
      "toc_visible": true
    },
    "kernelspec": {
      "display_name": "Python 3",
      "language": "python",
      "name": "python3"
    },
    "language_info": {
      "codemirror_mode": {
        "name": "ipython",
        "version": 3
      },
      "file_extension": ".py",
      "mimetype": "text/x-python",
      "name": "python",
      "nbconvert_exporter": "python",
      "pygments_lexer": "ipython3",
      "version": "3.7.6"
    }
  },
  "cells": [
    {
      "cell_type": "code",
      "metadata": {
        "colab_type": "code",
        "id": "zX4Kg8DUTKWO",
        "colab": {}
      },
      "source": [
        "#@title Licensed under the Apache License, Version 2.0 (the \"License\");\n",
        "# you may not use this file except in compliance with the License.\n",
        "# You may obtain a copy of the License at\n",
        "#\n",
        "# https://www.apache.org/licenses/LICENSE-2.0\n",
        "#\n",
        "# Unless required by applicable law or agreed to in writing, software\n",
        "# distributed under the License is distributed on an \"AS IS\" BASIS,\n",
        "# WITHOUT WARRANTIES OR CONDITIONS OF ANY KIND, either express or implied.\n",
        "# See the License for the specific language governing permissions and\n",
        "# limitations under the License."
      ],
      "execution_count": null,
      "outputs": []
    },
    {
      "cell_type": "markdown",
      "metadata": {
        "id": "akm0kwCbyTZz",
        "colab_type": "text"
      },
      "source": [
        "<a href=\"https://colab.research.google.com/github/lmoroney/dlaicourse/blob/master/TensorFlow%20In%20Practice/Course%203%20-%20NLP/Course%203%20-%20Week%203%20-%20Lesson%202c.ipynb\" target=\"_parent\"><img src=\"https://colab.research.google.com/assets/colab-badge.svg\" alt=\"Open In Colab\"/></a>"
      ]
    },
    {
      "cell_type": "code",
      "metadata": {
        "colab_type": "code",
        "id": "jGwXGIXvFhXW",
        "colab": {
          "base_uri": "https://localhost:8080/",
          "height": 1000
        },
        "outputId": "985d2a00-9516-406a-ea58-a638cd68ab73"
      },
      "source": [
        "import numpy as np\n",
        "\n",
        "import json\n",
        "import tensorflow as tf\n",
        "\n",
        "from tensorflow.keras.preprocessing.text import Tokenizer\n",
        "from tensorflow.keras.preprocessing.sequence import pad_sequences\n",
        "\n",
        "!wget --no-check-certificate \\\n",
        "    https://storage.googleapis.com/laurencemoroney-blog.appspot.com/sarcasm.json \\\n",
        "    -O /tmp/sarcasm.json\n",
        "\n",
        "vocab_size = 1000\n",
        "embedding_dim = 16\n",
        "max_length = 120\n",
        "trunc_type='post'\n",
        "padding_type='post'\n",
        "oov_tok = \"<OOV>\"\n",
        "training_size = 20000\n",
        "\n",
        "\n",
        "with open(\"/tmp/sarcasm.json\", 'r') as f:\n",
        "    datastore = json.load(f)\n",
        "\n",
        "\n",
        "sentences = []\n",
        "labels = []\n",
        "urls = []\n",
        "for item in datastore:\n",
        "    sentences.append(item['headline'])\n",
        "    labels.append(item['is_sarcastic'])\n",
        "\n",
        "training_sentences = sentences[0:training_size]\n",
        "testing_sentences = sentences[training_size:]\n",
        "training_labels = labels[0:training_size]\n",
        "testing_labels = labels[training_size:]\n",
        "\n",
        "tokenizer = Tokenizer(num_words=vocab_size, oov_token=oov_tok)\n",
        "tokenizer.fit_on_texts(training_sentences)\n",
        "\n",
        "word_index = tokenizer.word_index\n",
        "\n",
        "training_sequences = tokenizer.texts_to_sequences(training_sentences)\n",
        "training_padded = pad_sequences(training_sequences, maxlen=max_length, padding=padding_type, truncating=trunc_type)\n",
        "\n",
        "testing_sequences = tokenizer.texts_to_sequences(testing_sentences)\n",
        "testing_padded = pad_sequences(testing_sequences, maxlen=max_length, padding=padding_type, truncating=trunc_type)\n",
        "\n",
        "model = tf.keras.Sequential([\n",
        "    tf.keras.layers.Embedding(vocab_size, embedding_dim, input_length=max_length),\n",
        "    tf.keras.layers.Conv1D(128, 5, activation='relu'),\n",
        "    tf.keras.layers.GlobalMaxPooling1D(),\n",
        "    tf.keras.layers.Dense(24, activation='relu'),\n",
        "    tf.keras.layers.Dense(1, activation='sigmoid')\n",
        "])\n",
        "model.compile(loss='binary_crossentropy',optimizer='adam',metrics=['accuracy'])\n",
        "model.summary()\n",
        "\n",
        "num_epochs = 50\n",
        "\n",
        "training_padded = np.array(training_padded)\n",
        "training_labels = np.array(training_labels)\n",
        "testing_padded = np.array(testing_padded)\n",
        "testing_labels = np.array(testing_labels)\n",
        "\n",
        "history = model.fit(training_padded, training_labels, epochs=num_epochs, validation_data=(testing_padded, testing_labels), verbose=1)\n"
      ],
      "execution_count": 1,
      "outputs": [
        {
          "output_type": "stream",
          "text": [
            "--2020-07-07 15:00:00--  https://storage.googleapis.com/laurencemoroney-blog.appspot.com/sarcasm.json\n",
            "Resolving storage.googleapis.com (storage.googleapis.com)... 74.125.202.128, 173.194.194.128, 173.194.74.128, ...\n",
            "Connecting to storage.googleapis.com (storage.googleapis.com)|74.125.202.128|:443... connected.\n",
            "HTTP request sent, awaiting response... 200 OK\n",
            "Length: 5643545 (5.4M) [application/json]\n",
            "Saving to: ‘/tmp/sarcasm.json’\n",
            "\n",
            "\r/tmp/sarcasm.json     0%[                    ]       0  --.-KB/s               \r/tmp/sarcasm.json   100%[===================>]   5.38M  --.-KB/s    in 0.06s   \n",
            "\n",
            "2020-07-07 15:00:00 (94.7 MB/s) - ‘/tmp/sarcasm.json’ saved [5643545/5643545]\n",
            "\n",
            "Model: \"sequential\"\n",
            "_________________________________________________________________\n",
            "Layer (type)                 Output Shape              Param #   \n",
            "=================================================================\n",
            "embedding (Embedding)        (None, 120, 16)           16000     \n",
            "_________________________________________________________________\n",
            "conv1d (Conv1D)              (None, 116, 128)          10368     \n",
            "_________________________________________________________________\n",
            "global_max_pooling1d (Global (None, 128)               0         \n",
            "_________________________________________________________________\n",
            "dense (Dense)                (None, 24)                3096      \n",
            "_________________________________________________________________\n",
            "dense_1 (Dense)              (None, 1)                 25        \n",
            "=================================================================\n",
            "Total params: 29,489\n",
            "Trainable params: 29,489\n",
            "Non-trainable params: 0\n",
            "_________________________________________________________________\n",
            "Epoch 1/50\n",
            "625/625 [==============================] - 4s 7ms/step - loss: 0.4782 - accuracy: 0.7580 - val_loss: 0.4184 - val_accuracy: 0.8094\n",
            "Epoch 2/50\n",
            "625/625 [==============================] - 4s 6ms/step - loss: 0.3603 - accuracy: 0.8399 - val_loss: 0.3982 - val_accuracy: 0.8198\n",
            "Epoch 3/50\n",
            "625/625 [==============================] - 4s 6ms/step - loss: 0.3198 - accuracy: 0.8603 - val_loss: 0.3992 - val_accuracy: 0.8195\n",
            "Epoch 4/50\n",
            "625/625 [==============================] - 4s 7ms/step - loss: 0.2848 - accuracy: 0.8764 - val_loss: 0.4292 - val_accuracy: 0.8138\n",
            "Epoch 5/50\n",
            "625/625 [==============================] - 4s 7ms/step - loss: 0.2518 - accuracy: 0.8946 - val_loss: 0.4255 - val_accuracy: 0.8170\n",
            "Epoch 6/50\n",
            "625/625 [==============================] - 4s 6ms/step - loss: 0.2213 - accuracy: 0.9104 - val_loss: 0.4506 - val_accuracy: 0.8159\n",
            "Epoch 7/50\n",
            "625/625 [==============================] - 4s 6ms/step - loss: 0.1850 - accuracy: 0.9275 - val_loss: 0.5072 - val_accuracy: 0.8150\n",
            "Epoch 8/50\n",
            "625/625 [==============================] - 4s 6ms/step - loss: 0.1596 - accuracy: 0.9385 - val_loss: 0.5657 - val_accuracy: 0.8056\n",
            "Epoch 9/50\n",
            "625/625 [==============================] - 4s 6ms/step - loss: 0.1330 - accuracy: 0.9518 - val_loss: 0.6349 - val_accuracy: 0.8041\n",
            "Epoch 10/50\n",
            "625/625 [==============================] - 4s 7ms/step - loss: 0.1110 - accuracy: 0.9592 - val_loss: 0.7169 - val_accuracy: 0.8073\n",
            "Epoch 11/50\n",
            "625/625 [==============================] - 4s 7ms/step - loss: 0.0917 - accuracy: 0.9672 - val_loss: 0.8450 - val_accuracy: 0.7967\n",
            "Epoch 12/50\n",
            "625/625 [==============================] - 4s 6ms/step - loss: 0.0778 - accuracy: 0.9726 - val_loss: 0.8459 - val_accuracy: 0.7900\n",
            "Epoch 13/50\n",
            "625/625 [==============================] - 4s 6ms/step - loss: 0.0672 - accuracy: 0.9766 - val_loss: 0.9407 - val_accuracy: 0.7985\n",
            "Epoch 14/50\n",
            "625/625 [==============================] - 4s 6ms/step - loss: 0.0628 - accuracy: 0.9789 - val_loss: 1.0066 - val_accuracy: 0.7892\n",
            "Epoch 15/50\n",
            "625/625 [==============================] - 4s 6ms/step - loss: 0.0542 - accuracy: 0.9807 - val_loss: 1.0741 - val_accuracy: 0.7795\n",
            "Epoch 16/50\n",
            "625/625 [==============================] - 4s 7ms/step - loss: 0.0489 - accuracy: 0.9823 - val_loss: 1.2070 - val_accuracy: 0.7872\n",
            "Epoch 17/50\n",
            "625/625 [==============================] - 5s 7ms/step - loss: 0.0442 - accuracy: 0.9833 - val_loss: 1.2771 - val_accuracy: 0.7857\n",
            "Epoch 18/50\n",
            "625/625 [==============================] - 5s 7ms/step - loss: 0.0419 - accuracy: 0.9847 - val_loss: 1.4207 - val_accuracy: 0.7930\n",
            "Epoch 19/50\n",
            "625/625 [==============================] - 4s 7ms/step - loss: 0.0404 - accuracy: 0.9844 - val_loss: 1.4711 - val_accuracy: 0.7879\n",
            "Epoch 20/50\n",
            "625/625 [==============================] - 4s 6ms/step - loss: 0.0410 - accuracy: 0.9842 - val_loss: 1.4153 - val_accuracy: 0.7872\n",
            "Epoch 21/50\n",
            "625/625 [==============================] - 4s 6ms/step - loss: 0.0350 - accuracy: 0.9862 - val_loss: 1.5395 - val_accuracy: 0.7885\n",
            "Epoch 22/50\n",
            "625/625 [==============================] - 4s 7ms/step - loss: 0.0334 - accuracy: 0.9873 - val_loss: 1.6459 - val_accuracy: 0.7858\n",
            "Epoch 23/50\n",
            "625/625 [==============================] - 4s 7ms/step - loss: 0.0306 - accuracy: 0.9888 - val_loss: 1.5782 - val_accuracy: 0.7867\n",
            "Epoch 24/50\n",
            "625/625 [==============================] - 4s 6ms/step - loss: 0.0330 - accuracy: 0.9864 - val_loss: 1.6346 - val_accuracy: 0.7870\n",
            "Epoch 25/50\n",
            "625/625 [==============================] - 4s 7ms/step - loss: 0.0364 - accuracy: 0.9849 - val_loss: 1.6888 - val_accuracy: 0.7840\n",
            "Epoch 26/50\n",
            "625/625 [==============================] - 4s 7ms/step - loss: 0.0296 - accuracy: 0.9881 - val_loss: 1.8327 - val_accuracy: 0.7877\n",
            "Epoch 27/50\n",
            "625/625 [==============================] - 4s 7ms/step - loss: 0.0256 - accuracy: 0.9901 - val_loss: 1.7854 - val_accuracy: 0.7894\n",
            "Epoch 28/50\n",
            "625/625 [==============================] - 4s 7ms/step - loss: 0.0262 - accuracy: 0.9895 - val_loss: 1.9843 - val_accuracy: 0.7892\n",
            "Epoch 29/50\n",
            "625/625 [==============================] - 4s 7ms/step - loss: 0.0337 - accuracy: 0.9866 - val_loss: 1.8469 - val_accuracy: 0.7886\n",
            "Epoch 30/50\n",
            "625/625 [==============================] - 4s 7ms/step - loss: 0.0271 - accuracy: 0.9890 - val_loss: 2.0723 - val_accuracy: 0.7804\n",
            "Epoch 31/50\n",
            "625/625 [==============================] - 4s 7ms/step - loss: 0.0283 - accuracy: 0.9883 - val_loss: 2.0134 - val_accuracy: 0.7806\n",
            "Epoch 32/50\n",
            "625/625 [==============================] - 4s 7ms/step - loss: 0.0242 - accuracy: 0.9904 - val_loss: 1.9372 - val_accuracy: 0.7867\n",
            "Epoch 33/50\n",
            "625/625 [==============================] - 4s 7ms/step - loss: 0.0216 - accuracy: 0.9914 - val_loss: 2.1471 - val_accuracy: 0.7822\n",
            "Epoch 34/50\n",
            "625/625 [==============================] - 4s 7ms/step - loss: 0.0225 - accuracy: 0.9901 - val_loss: 2.0171 - val_accuracy: 0.7849\n",
            "Epoch 35/50\n",
            "625/625 [==============================] - 4s 7ms/step - loss: 0.0241 - accuracy: 0.9903 - val_loss: 2.2340 - val_accuracy: 0.7824\n",
            "Epoch 36/50\n",
            "625/625 [==============================] - 4s 7ms/step - loss: 0.0313 - accuracy: 0.9879 - val_loss: 2.1569 - val_accuracy: 0.7839\n",
            "Epoch 37/50\n",
            "625/625 [==============================] - 4s 7ms/step - loss: 0.0246 - accuracy: 0.9897 - val_loss: 2.1029 - val_accuracy: 0.7861\n",
            "Epoch 38/50\n",
            "625/625 [==============================] - 4s 7ms/step - loss: 0.0221 - accuracy: 0.9905 - val_loss: 2.2973 - val_accuracy: 0.7839\n",
            "Epoch 39/50\n",
            "625/625 [==============================] - 4s 7ms/step - loss: 0.0196 - accuracy: 0.9916 - val_loss: 2.2587 - val_accuracy: 0.7877\n",
            "Epoch 40/50\n",
            "625/625 [==============================] - 4s 7ms/step - loss: 0.0196 - accuracy: 0.9919 - val_loss: 2.3203 - val_accuracy: 0.7857\n",
            "Epoch 41/50\n",
            "625/625 [==============================] - 4s 7ms/step - loss: 0.0216 - accuracy: 0.9912 - val_loss: 2.3035 - val_accuracy: 0.7892\n",
            "Epoch 42/50\n",
            "625/625 [==============================] - 4s 7ms/step - loss: 0.0272 - accuracy: 0.9891 - val_loss: 2.2499 - val_accuracy: 0.7861\n",
            "Epoch 43/50\n",
            "625/625 [==============================] - 4s 7ms/step - loss: 0.0254 - accuracy: 0.9894 - val_loss: 2.3544 - val_accuracy: 0.7915\n",
            "Epoch 44/50\n",
            "625/625 [==============================] - 4s 7ms/step - loss: 0.0191 - accuracy: 0.9914 - val_loss: 2.4356 - val_accuracy: 0.7845\n",
            "Epoch 45/50\n",
            "625/625 [==============================] - 4s 7ms/step - loss: 0.0170 - accuracy: 0.9922 - val_loss: 2.6974 - val_accuracy: 0.7837\n",
            "Epoch 46/50\n",
            "625/625 [==============================] - 4s 7ms/step - loss: 0.0201 - accuracy: 0.9916 - val_loss: 2.6611 - val_accuracy: 0.7851\n",
            "Epoch 47/50\n",
            "625/625 [==============================] - 4s 7ms/step - loss: 0.0169 - accuracy: 0.9929 - val_loss: 2.4756 - val_accuracy: 0.7864\n",
            "Epoch 48/50\n",
            "625/625 [==============================] - 4s 7ms/step - loss: 0.0233 - accuracy: 0.9905 - val_loss: 2.5542 - val_accuracy: 0.7876\n",
            "Epoch 49/50\n",
            "625/625 [==============================] - 4s 7ms/step - loss: 0.0255 - accuracy: 0.9894 - val_loss: 2.5978 - val_accuracy: 0.7822\n",
            "Epoch 50/50\n",
            "625/625 [==============================] - 4s 7ms/step - loss: 0.0190 - accuracy: 0.9919 - val_loss: 2.6492 - val_accuracy: 0.7843\n"
          ],
          "name": "stdout"
        }
      ]
    },
    {
      "cell_type": "code",
      "metadata": {
        "colab_type": "code",
        "id": "g9DC6dmLF8DC",
        "colab": {
          "base_uri": "https://localhost:8080/",
          "height": 541
        },
        "outputId": "805c6cdf-a6fe-40f8-9ada-c2e4e47de9a7"
      },
      "source": [
        "import matplotlib.pyplot as plt\n",
        "\n",
        "\n",
        "def plot_graphs(history, string):\n",
        "  plt.plot(history.history[string])\n",
        "  plt.plot(history.history['val_'+string])\n",
        "  plt.xlabel(\"Epochs\")\n",
        "  plt.ylabel(string)\n",
        "  plt.legend([string, 'val_'+string])\n",
        "  plt.show()\n",
        "\n",
        "plot_graphs(history, 'accuracy')\n",
        "plot_graphs(history, 'loss')"
      ],
      "execution_count": 2,
      "outputs": [
        {
          "output_type": "display_data",
          "data": {
            "image/png": "[encoded data removed]",
            "text/plain": [
              "<Figure size 432x288 with 1 Axes>"
            ]
          },
          "metadata": {
            "tags": [],
            "needs_background": "light"
          }
        },
        {
          "output_type": "display_data",
          "data": {
            "image/png": "[encoded data removed]",
            "text/plain": [
              "<Figure size 432x288 with 1 Axes>"
            ]
          },
          "metadata": {
            "tags": [],
            "needs_background": "light"
          }
        }
      ]
    },
    {
      "cell_type": "code",
      "metadata": {
        "colab_type": "code",
        "id": "7ZEZIUppGhdi",
        "colab": {}
      },
      "source": [
        "model.save(\"test.h5\")"
      ],
      "execution_count": null,
      "outputs": []
    }
  ]
}